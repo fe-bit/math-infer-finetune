{
 "cells": [
  {
   "cell_type": "code",
   "execution_count": 13,
   "id": "3618da98",
   "metadata": {},
   "outputs": [
    {
     "name": "stdout",
     "output_type": "stream",
     "text": [
      "Requirement already satisfied: transformers in /home/f/felbingerp/MA/finetune/env/lib/python3.12/site-packages (4.52.4)\n",
      "Requirement already satisfied: torch in /home/f/felbingerp/MA/finetune/env/lib/python3.12/site-packages (2.7.1)\n",
      "Collecting torchvision\n",
      "  Downloading torchvision-0.22.1-cp312-cp312-manylinux_2_28_x86_64.whl.metadata (6.1 kB)\n",
      "Collecting torchaudio\n",
      "  Downloading torchaudio-2.7.1-cp312-cp312-manylinux_2_28_x86_64.whl.metadata (6.6 kB)\n",
      "Requirement already satisfied: pandas in /home/f/felbingerp/MA/finetune/env/lib/python3.12/site-packages (2.3.0)\n",
      "Requirement already satisfied: peft in /home/f/felbingerp/MA/finetune/env/lib/python3.12/site-packages (0.15.2)\n",
      "Requirement already satisfied: datasets in /home/f/felbingerp/MA/finetune/env/lib/python3.12/site-packages (3.6.0)\n",
      "Requirement already satisfied: trl in /home/f/felbingerp/MA/finetune/env/lib/python3.12/site-packages (0.18.1)\n",
      "Requirement already satisfied: filelock in /home/f/felbingerp/MA/finetune/env/lib/python3.12/site-packages (from transformers) (3.18.0)\n",
      "Requirement already satisfied: huggingface-hub<1.0,>=0.30.0 in /home/f/felbingerp/MA/finetune/env/lib/python3.12/site-packages (from transformers) (0.32.4)\n",
      "Requirement already satisfied: numpy>=1.17 in /home/f/felbingerp/MA/finetune/env/lib/python3.12/site-packages (from transformers) (2.2.6)\n",
      "Requirement already satisfied: packaging>=20.0 in /home/f/felbingerp/MA/finetune/env/lib/python3.12/site-packages (from transformers) (24.2)\n",
      "Requirement already satisfied: pyyaml>=5.1 in /home/f/felbingerp/MA/finetune/env/lib/python3.12/site-packages (from transformers) (6.0.2)\n",
      "Requirement already satisfied: regex!=2019.12.17 in /home/f/felbingerp/MA/finetune/env/lib/python3.12/site-packages (from transformers) (2024.11.6)\n",
      "Requirement already satisfied: requests in /home/f/felbingerp/MA/finetune/env/lib/python3.12/site-packages (from transformers) (2.32.3)\n",
      "Requirement already satisfied: tokenizers<0.22,>=0.21 in /home/f/felbingerp/MA/finetune/env/lib/python3.12/site-packages (from transformers) (0.21.1)\n",
      "Requirement already satisfied: safetensors>=0.4.3 in /home/f/felbingerp/MA/finetune/env/lib/python3.12/site-packages (from transformers) (0.5.3)\n",
      "Requirement already satisfied: tqdm>=4.27 in /home/f/felbingerp/MA/finetune/env/lib/python3.12/site-packages (from transformers) (4.67.1)\n",
      "Requirement already satisfied: typing-extensions>=4.10.0 in /home/f/felbingerp/MA/finetune/env/lib/python3.12/site-packages (from torch) (4.14.0)\n",
      "Requirement already satisfied: setuptools in /home/f/felbingerp/MA/finetune/env/lib/python3.12/site-packages (from torch) (80.9.0)\n",
      "Requirement already satisfied: sympy>=1.13.3 in /home/f/felbingerp/MA/finetune/env/lib/python3.12/site-packages (from torch) (1.14.0)\n",
      "Requirement already satisfied: networkx in /home/f/felbingerp/MA/finetune/env/lib/python3.12/site-packages (from torch) (3.5)\n",
      "Requirement already satisfied: jinja2 in /home/f/felbingerp/MA/finetune/env/lib/python3.12/site-packages (from torch) (3.1.6)\n",
      "Requirement already satisfied: fsspec in /home/f/felbingerp/MA/finetune/env/lib/python3.12/site-packages (from torch) (2025.3.0)\n",
      "Requirement already satisfied: nvidia-cuda-nvrtc-cu12==12.6.77 in /home/f/felbingerp/MA/finetune/env/lib/python3.12/site-packages (from torch) (12.6.77)\n",
      "Requirement already satisfied: nvidia-cuda-runtime-cu12==12.6.77 in /home/f/felbingerp/MA/finetune/env/lib/python3.12/site-packages (from torch) (12.6.77)\n",
      "Requirement already satisfied: nvidia-cuda-cupti-cu12==12.6.80 in /home/f/felbingerp/MA/finetune/env/lib/python3.12/site-packages (from torch) (12.6.80)\n",
      "Requirement already satisfied: nvidia-cudnn-cu12==9.5.1.17 in /home/f/felbingerp/MA/finetune/env/lib/python3.12/site-packages (from torch) (9.5.1.17)\n",
      "Requirement already satisfied: nvidia-cublas-cu12==12.6.4.1 in /home/f/felbingerp/MA/finetune/env/lib/python3.12/site-packages (from torch) (12.6.4.1)\n",
      "Requirement already satisfied: nvidia-cufft-cu12==11.3.0.4 in /home/f/felbingerp/MA/finetune/env/lib/python3.12/site-packages (from torch) (11.3.0.4)\n",
      "Requirement already satisfied: nvidia-curand-cu12==10.3.7.77 in /home/f/felbingerp/MA/finetune/env/lib/python3.12/site-packages (from torch) (10.3.7.77)\n",
      "Requirement already satisfied: nvidia-cusolver-cu12==11.7.1.2 in /home/f/felbingerp/MA/finetune/env/lib/python3.12/site-packages (from torch) (11.7.1.2)\n",
      "Requirement already satisfied: nvidia-cusparse-cu12==12.5.4.2 in /home/f/felbingerp/MA/finetune/env/lib/python3.12/site-packages (from torch) (12.5.4.2)\n",
      "Requirement already satisfied: nvidia-cusparselt-cu12==0.6.3 in /home/f/felbingerp/MA/finetune/env/lib/python3.12/site-packages (from torch) (0.6.3)\n",
      "Requirement already satisfied: nvidia-nccl-cu12==2.26.2 in /home/f/felbingerp/MA/finetune/env/lib/python3.12/site-packages (from torch) (2.26.2)\n",
      "Requirement already satisfied: nvidia-nvtx-cu12==12.6.77 in /home/f/felbingerp/MA/finetune/env/lib/python3.12/site-packages (from torch) (12.6.77)\n",
      "Requirement already satisfied: nvidia-nvjitlink-cu12==12.6.85 in /home/f/felbingerp/MA/finetune/env/lib/python3.12/site-packages (from torch) (12.6.85)\n",
      "Requirement already satisfied: nvidia-cufile-cu12==1.11.1.6 in /home/f/felbingerp/MA/finetune/env/lib/python3.12/site-packages (from torch) (1.11.1.6)\n",
      "Requirement already satisfied: triton==3.3.1 in /home/f/felbingerp/MA/finetune/env/lib/python3.12/site-packages (from torch) (3.3.1)\n",
      "Requirement already satisfied: pillow!=8.3.*,>=5.3.0 in /home/f/felbingerp/MA/finetune/env/lib/python3.12/site-packages (from torchvision) (11.0.0)\n",
      "Requirement already satisfied: python-dateutil>=2.8.2 in /home/f/felbingerp/MA/finetune/env/lib/python3.12/site-packages (from pandas) (2.9.0.post0)\n",
      "Requirement already satisfied: pytz>=2020.1 in /home/f/felbingerp/MA/finetune/env/lib/python3.12/site-packages (from pandas) (2025.2)\n",
      "Requirement already satisfied: tzdata>=2022.7 in /home/f/felbingerp/MA/finetune/env/lib/python3.12/site-packages (from pandas) (2025.2)\n",
      "Requirement already satisfied: psutil in /home/f/felbingerp/MA/finetune/env/lib/python3.12/site-packages (from peft) (7.0.0)\n",
      "Requirement already satisfied: accelerate>=0.21.0 in /home/f/felbingerp/MA/finetune/env/lib/python3.12/site-packages (from peft) (1.7.0)\n",
      "Requirement already satisfied: pyarrow>=15.0.0 in /home/f/felbingerp/MA/finetune/env/lib/python3.12/site-packages (from datasets) (20.0.0)\n",
      "Requirement already satisfied: dill<0.3.9,>=0.3.0 in /home/f/felbingerp/MA/finetune/env/lib/python3.12/site-packages (from datasets) (0.3.8)\n",
      "Requirement already satisfied: xxhash in /home/f/felbingerp/MA/finetune/env/lib/python3.12/site-packages (from datasets) (3.5.0)\n",
      "Requirement already satisfied: multiprocess<0.70.17 in /home/f/felbingerp/MA/finetune/env/lib/python3.12/site-packages (from datasets) (0.70.16)\n",
      "Requirement already satisfied: aiohttp!=4.0.0a0,!=4.0.0a1 in /home/f/felbingerp/MA/finetune/env/lib/python3.12/site-packages (from fsspec[http]<=2025.3.0,>=2023.1.0->datasets) (3.12.9)\n",
      "Requirement already satisfied: hf-xet<2.0.0,>=1.1.2 in /home/f/felbingerp/MA/finetune/env/lib/python3.12/site-packages (from huggingface-hub<1.0,>=0.30.0->transformers) (1.1.3)\n",
      "Requirement already satisfied: six>=1.5 in /home/f/felbingerp/MA/finetune/env/lib/python3.12/site-packages (from python-dateutil>=2.8.2->pandas) (1.17.0)\n",
      "Requirement already satisfied: charset-normalizer<4,>=2 in /home/f/felbingerp/MA/finetune/env/lib/python3.12/site-packages (from requests->transformers) (3.4.2)\n",
      "Requirement already satisfied: idna<4,>=2.5 in /home/f/felbingerp/MA/finetune/env/lib/python3.12/site-packages (from requests->transformers) (3.10)\n",
      "Requirement already satisfied: urllib3<3,>=1.21.1 in /home/f/felbingerp/MA/finetune/env/lib/python3.12/site-packages (from requests->transformers) (2.4.0)\n",
      "Requirement already satisfied: certifi>=2017.4.17 in /home/f/felbingerp/MA/finetune/env/lib/python3.12/site-packages (from requests->transformers) (2025.4.26)\n",
      "Requirement already satisfied: mpmath<1.4,>=1.1.0 in /home/f/felbingerp/MA/finetune/env/lib/python3.12/site-packages (from sympy>=1.13.3->torch) (1.3.0)\n",
      "Requirement already satisfied: MarkupSafe>=2.0 in /home/f/felbingerp/MA/finetune/env/lib/python3.12/site-packages (from jinja2->torch) (3.0.2)\n",
      "Requirement already satisfied: aiohappyeyeballs>=2.5.0 in /home/f/felbingerp/MA/finetune/env/lib/python3.12/site-packages (from aiohttp!=4.0.0a0,!=4.0.0a1->fsspec[http]<=2025.3.0,>=2023.1.0->datasets) (2.6.1)\n",
      "Requirement already satisfied: aiosignal>=1.1.2 in /home/f/felbingerp/MA/finetune/env/lib/python3.12/site-packages (from aiohttp!=4.0.0a0,!=4.0.0a1->fsspec[http]<=2025.3.0,>=2023.1.0->datasets) (1.3.2)\n",
      "Requirement already satisfied: attrs>=17.3.0 in /home/f/felbingerp/MA/finetune/env/lib/python3.12/site-packages (from aiohttp!=4.0.0a0,!=4.0.0a1->fsspec[http]<=2025.3.0,>=2023.1.0->datasets) (25.3.0)\n",
      "Requirement already satisfied: frozenlist>=1.1.1 in /home/f/felbingerp/MA/finetune/env/lib/python3.12/site-packages (from aiohttp!=4.0.0a0,!=4.0.0a1->fsspec[http]<=2025.3.0,>=2023.1.0->datasets) (1.6.2)\n",
      "Requirement already satisfied: multidict<7.0,>=4.5 in /home/f/felbingerp/MA/finetune/env/lib/python3.12/site-packages (from aiohttp!=4.0.0a0,!=4.0.0a1->fsspec[http]<=2025.3.0,>=2023.1.0->datasets) (6.4.4)\n",
      "Requirement already satisfied: propcache>=0.2.0 in /home/f/felbingerp/MA/finetune/env/lib/python3.12/site-packages (from aiohttp!=4.0.0a0,!=4.0.0a1->fsspec[http]<=2025.3.0,>=2023.1.0->datasets) (0.3.1)\n",
      "Requirement already satisfied: yarl<2.0,>=1.17.0 in /home/f/felbingerp/MA/finetune/env/lib/python3.12/site-packages (from aiohttp!=4.0.0a0,!=4.0.0a1->fsspec[http]<=2025.3.0,>=2023.1.0->datasets) (1.20.0)\n",
      "Downloading torchvision-0.22.1-cp312-cp312-manylinux_2_28_x86_64.whl (7.5 MB)\n",
      "\u001b[2K   \u001b[90m━━━━━━━━━━━━━━━━━━━━━━━━━━━━━━━━━━━━━━━━\u001b[0m \u001b[32m7.5/7.5 MB\u001b[0m \u001b[31m32.3 MB/s\u001b[0m eta \u001b[36m0:00:00\u001b[0m00:01\u001b[0m00:01\u001b[0m\n",
      "\u001b[?25hDownloading torchaudio-2.7.1-cp312-cp312-manylinux_2_28_x86_64.whl (3.5 MB)\n",
      "\u001b[2K   \u001b[90m━━━━━━━━━━━━━━━━━━━━━━━━━━━━━━━━━━━━━━━━\u001b[0m \u001b[32m3.5/3.5 MB\u001b[0m \u001b[31m29.0 MB/s\u001b[0m eta \u001b[36m0:00:00\u001b[0m00:01\u001b[0m00:01\u001b[0m\n",
      "\u001b[?25hInstalling collected packages: torchvision, torchaudio\n",
      "Successfully installed torchaudio-2.7.1 torchvision-0.22.1\n"
     ]
    }
   ],
   "source": [
    "!pip install transformers torch torchvision torchaudio pandas peft datasets trl"
   ]
  },
  {
   "cell_type": "code",
   "execution_count": 1,
   "id": "b63917b0",
   "metadata": {},
   "outputs": [
    {
     "name": "stderr",
     "output_type": "stream",
     "text": [
      "/home/f/felbingerp/MA/finetune/env/lib/python3.12/site-packages/tqdm/auto.py:21: TqdmWarning: IProgress not found. Please update jupyter and ipywidgets. See https://ipywidgets.readthedocs.io/en/stable/user_install.html\n",
      "  from .autonotebook import tqdm as notebook_tqdm\n"
     ]
    }
   ],
   "source": [
    "from transformers import TrainingArguments\n",
    "import os\n",
    "import logging\n",
    "import sys\n",
    "from pathlib import Path\n",
    "from peft import LoraConfig"
   ]
  },
  {
   "cell_type": "code",
   "execution_count": 2,
   "id": "59f37574",
   "metadata": {},
   "outputs": [],
   "source": [
    "logging.basicConfig(\n",
    "    stream=sys.stdout,\n",
    "    level=logging.INFO,  # or DEBUG\n",
    "    format=\"%(asctime)s - %(levelname)s - %(name)s - %(message)s\",\n",
    "    force=True  # Overwrites previous configs\n",
    ")"
   ]
  },
  {
   "cell_type": "code",
   "execution_count": null,
   "id": "a2cb51f6",
   "metadata": {},
   "outputs": [
    {
     "data": {
      "text/plain": [
       "PosixPath('/home/f/felbingerp/MA/finetune/fine_tuning/training-output/HuggingFaceTB/SmolLM2-360M-Instruct')"
      ]
     },
     "execution_count": 9,
     "metadata": {},
     "output_type": "execute_result"
    }
   ],
   "source": [
    "WORKING_DIR = Path(os.getcwd())\n",
    "model_name = \"HuggingFaceTB/SmolLM2-360M-Instruct\"\n",
    "resume = False\n",
    "output_dir = WORKING_DIR / f\"training-output/{model_name}\"\n",
    "output_dir"
   ]
  },
  {
   "cell_type": "code",
   "execution_count": null,
   "id": "4e775482",
   "metadata": {},
   "outputs": [],
   "source": [
    "from datasets import Dataset as HFDataset\n",
    "import pandas as pd\n",
    "\n",
    "\n",
    "def get_dataset():\n",
    "    p = WORKING_DIR / \"train_data.xlsx\"\n",
    "    df = pd.read_excel(p)\n",
    "    df = df.dropna(axis=0)\n",
    "    ds = HFDataset.from_pandas(df)\n",
    "    ds = ds.train_test_split(test_size=0.1, seed=42)\n",
    "    return ds\n",
    "\n",
    "ds = get_dataset()"
   ]
  },
  {
   "cell_type": "code",
   "execution_count": 11,
   "id": "141f2d79",
   "metadata": {},
   "outputs": [
    {
     "name": "stderr",
     "output_type": "stream",
     "text": [
      "Map: 100%|██████████| 2475/2475 [00:00<00:00, 12194.82 examples/s]\n",
      "Map: 100%|██████████| 276/276 [00:00<00:00, 11333.18 examples/s]\n"
     ]
    }
   ],
   "source": [
    "def format_dataset(ds):\n",
    "    def format_chat(example):\n",
    "        user_message = example[\"input\"]\n",
    "        assistant_message = example[\"output\"]\n",
    "        messages = [\n",
    "            {\"role\": \"user\", \"content\": user_message},\n",
    "            {\"role\": \"assistant\", \"content\": assistant_message}\n",
    "        ]\n",
    "        return {\n",
    "            \"messages\": messages\n",
    "        }\n",
    "    ds = ds.map(format_chat, batched=False)\n",
    "    return ds\n",
    "\n",
    "ds = format_dataset(ds)"
   ]
  },
  {
   "cell_type": "code",
   "execution_count": 12,
   "id": "12aa7d35",
   "metadata": {},
   "outputs": [
    {
     "name": "stderr",
     "output_type": "stream",
     "text": [
      "/home/f/felbingerp/MA/finetune/env/lib/python3.12/site-packages/torch/cuda/__init__.py:789: UserWarning: Can't initialize NVML\n",
      "  warnings.warn(\"Can't initialize NVML\")\n"
     ]
    }
   ],
   "source": [
    "training_args = TrainingArguments(\n",
    "    output_dir=output_dir.as_posix(),\n",
    "    per_device_train_batch_size=1,\n",
    "    gradient_accumulation_steps=8,\n",
    "    \n",
    "    num_train_epochs=1, # we use EarlyStoppingCallback to stop training if eval_loss doesn't improve for 3 evals\n",
    "\n",
    "    logging_steps=25,\n",
    "\n",
    "    save_strategy=\"steps\",\n",
    "    save_steps=100,\n",
    "\n",
    "    save_total_limit=2,\n",
    "    eval_strategy=\"steps\",\n",
    "    eval_steps=100,\n",
    "\n",
    "    load_best_model_at_end=True,\n",
    "    metric_for_best_model=\"eval_loss\",\n",
    "    greater_is_better=False,\n",
    "\n",
    "    logging_dir=\"./logs\",\n",
    "    report_to=\"none\",\n",
    ")\n",
    "\n",
    "\n",
    "lora_config = LoraConfig(\n",
    "    r=4,\n",
    "    lora_alpha=8,\n",
    "    lora_dropout=0.05,\n",
    "    target_modules=[\n",
    "        \"q_proj\", \"k_proj\", \"v_proj\", \"o_proj\", \n",
    "        \"gate_proj\", \"up_proj\", \"down_proj\"\n",
    "    ],\n",
    "    task_type=\"CAUSAL_LM\",\n",
    "    bias=\"lora_only\",\n",
    "    modules_to_save=[\"lm_head\", \"embed_token\"],\n",
    ")"
   ]
  },
  {
   "cell_type": "code",
   "execution_count": null,
   "id": "f704d4a3",
   "metadata": {},
   "outputs": [],
   "source": [
    "import torch\n",
    "from transformers import AutoTokenizer, AutoModelForCausalLM\n",
    "\n",
    "if torch.cuda.is_available():\n",
    "    print(\"CUDA is available! Using GPU.\")\n",
    "    print(f\"Number of GPUs: {torch.cuda.device_count()}\")\n",
    "    print(f\"Current CUDA device: {torch.cuda.current_device()}\")\n",
    "    print(f\"Device name: {torch.cuda.get_device_name(0)}\")\n",
    "    device_map_strategy = \"cuda\"\n",
    "elif torch.backends.mps.is_available():\n",
    "    print(\"MPS (Metal Performance Shaders) is available! Using Apple Silicon GPU.\")\n",
    "    device_map_strategy = \"mps\"\n",
    "else:\n",
    "    print(\"CUDA is not available. Using CPU.\")\n",
    "    num_threads = int(os.environ.get(\"SLURM_CPUS_PER_TASK\", 1)) # Default to 1 if not in Slurm\n",
    "    torch.set_num_threads(num_threads)\n",
    "    print(f\"PyTorch using {torch.get_num_threads()} CPU threads.\")\n",
    "    device_map_strategy = \"cpu\"\n",
    "\n",
    "tokenizer = AutoTokenizer.from_pretrained(model_name, trust_remote_code=True)\n",
    "model = AutoModelForCausalLM.from_pretrained(\n",
    "    model_name,\n",
    "    device_map=device_map_strategy,\n",
    "    trust_remote_code=True,\n",
    ")"
   ]
  },
  {
   "cell_type": "code",
   "execution_count": null,
   "id": "373a8b97",
   "metadata": {},
   "outputs": [],
   "source": [
    "from trl import SFTTrainer, SFTConfig\n",
    "from transformers import EarlyStoppingCallback\n",
    "\n",
    "\n",
    "training_args = SFTConfig(packing=True, **training_args.to_dict())\n",
    "os.makedirs(output_dir, exist_ok=True)\n",
    "with open(f\"{output_dir}/training_args.json\", \"w\") as f:\n",
    "    f.write(training_args.to_json_string())\n",
    "\n",
    "trainer = SFTTrainer(\n",
    "    model=model,\n",
    "    args=training_args,\n",
    "    peft_config=lora_config, # is None if not using LoRA\n",
    "    train_dataset=ds[\"train\"],\n",
    "    eval_dataset=ds[\"test\"],\n",
    "    callbacks=[EarlyStoppingCallback(early_stopping_patience=3)],\n",
    ")\n",
    "\n",
    "if resume:\n",
    "    trainer.train(resume_from_checkpoint=True)\n",
    "else:\n",
    "    trainer.train()\n",
    "    \n",
    "trainer.save_model(output_dir.as_posix())"
   ]
  },
  {
   "cell_type": "code",
   "execution_count": null,
   "id": "75094a28",
   "metadata": {},
   "outputs": [],
   "source": [
    "import shutil\n",
    "\n",
    "# Zip the folder (e.g., 'my_folder' → 'my_folder.zip')\n",
    "shutil.make_archive(output_dir.as_posix(), 'zip', output_dir)"
   ]
  },
  {
   "cell_type": "code",
   "execution_count": null,
   "id": "03c750d4",
   "metadata": {},
   "outputs": [],
   "source": [
    "from google.colab import files\n",
    "files.download(output_dir.as_posix() + '.zip')"
   ]
  }
 ],
 "metadata": {
  "kernelspec": {
   "display_name": "env",
   "language": "python",
   "name": "python3"
  },
  "language_info": {
   "codemirror_mode": {
    "name": "ipython",
    "version": 3
   },
   "file_extension": ".py",
   "mimetype": "text/x-python",
   "name": "python",
   "nbconvert_exporter": "python",
   "pygments_lexer": "ipython3",
   "version": "3.12.3"
  }
 },
 "nbformat": 4,
 "nbformat_minor": 5
}
