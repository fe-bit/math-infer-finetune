{
 "cells": [
  {
   "cell_type": "code",
   "execution_count": 1,
   "id": "b63917b0",
   "metadata": {},
   "outputs": [
    {
     "name": "stderr",
     "output_type": "stream",
     "text": [
      "/home/f/felbingerp/MA/finetune/env/lib/python3.12/site-packages/tqdm/auto.py:21: TqdmWarning: IProgress not found. Please update jupyter and ipywidgets. See https://ipywidgets.readthedocs.io/en/stable/user_install.html\n",
      "  from .autonotebook import tqdm as notebook_tqdm\n"
     ]
    }
   ],
   "source": [
    "from transformers import TrainingArguments\n",
    "import os\n",
    "import logging\n",
    "import sys\n",
    "from pathlib import Path\n",
    "from peft import LoraConfig"
   ]
  },
  {
   "cell_type": "code",
   "execution_count": 2,
   "id": "59f37574",
   "metadata": {},
   "outputs": [],
   "source": [
    "logging.basicConfig(\n",
    "    stream=sys.stdout,\n",
    "    level=logging.INFO,  # or DEBUG\n",
    "    format=\"%(asctime)s - %(levelname)s - %(name)s - %(message)s\",\n",
    "    force=True  # Overwrites previous configs\n",
    ")"
   ]
  },
  {
   "cell_type": "code",
   "execution_count": 9,
   "id": "a2cb51f6",
   "metadata": {},
   "outputs": [
    {
     "data": {
      "text/plain": [
       "PosixPath('/home/f/felbingerp/MA/finetune/fine_tuning/training-output/HuggingFaceTB/SmolLM2-360M-Instruct')"
      ]
     },
     "execution_count": 9,
     "metadata": {},
     "output_type": "execute_result"
    }
   ],
   "source": [
    "WORKING_DIR = Path(os.getcwd())\n",
    "model_name = \"HuggingFaceTB/SmolLM2-360M-Instruct\"\n",
    "resume = False\n",
    "output_dir = WORKING_DIR / f\"training-output/{model_name}\"\n",
    "\n",
    "output_dir"
   ]
  },
  {
   "cell_type": "code",
   "execution_count": 10,
   "id": "4e775482",
   "metadata": {},
   "outputs": [],
   "source": [
    "from datasets import Dataset as HFDataset\n",
    "from pathlib import Path\n",
    "import pandas as pd\n",
    "\n",
    "\n",
    "def get_dataset():\n",
    "    p = WORKING_DIR / \"train_data.xlsx\"\n",
    "    df = pd.read_excel(p)\n",
    "    df = df.dropna(axis=0)\n",
    "    ds = HFDataset.from_pandas(df)\n",
    "    ds = ds.train_test_split(test_size=0.1, seed=42)\n",
    "    return ds\n",
    "\n",
    "ds = get_dataset()"
   ]
  },
  {
   "cell_type": "code",
   "execution_count": 11,
   "id": "141f2d79",
   "metadata": {},
   "outputs": [
    {
     "name": "stderr",
     "output_type": "stream",
     "text": [
      "Map: 100%|██████████| 2475/2475 [00:00<00:00, 12194.82 examples/s]\n",
      "Map: 100%|██████████| 276/276 [00:00<00:00, 11333.18 examples/s]\n"
     ]
    }
   ],
   "source": [
    "def format_dataset(ds):\n",
    "    def format_chat(example):\n",
    "        user_message = example[\"input\"]\n",
    "        assistant_message = example[\"output\"]\n",
    "        messages = [\n",
    "            {\"role\": \"user\", \"content\": user_message},\n",
    "            {\"role\": \"assistant\", \"content\": assistant_message}\n",
    "        ]\n",
    "        return {\n",
    "            \"messages\": messages\n",
    "        }\n",
    "    ds = ds.map(format_chat, batched=False)\n",
    "    return ds\n",
    "\n",
    "ds = format_dataset(ds)"
   ]
  },
  {
   "cell_type": "code",
   "execution_count": 12,
   "id": "12aa7d35",
   "metadata": {},
   "outputs": [
    {
     "name": "stderr",
     "output_type": "stream",
     "text": [
      "/home/f/felbingerp/MA/finetune/env/lib/python3.12/site-packages/torch/cuda/__init__.py:789: UserWarning: Can't initialize NVML\n",
      "  warnings.warn(\"Can't initialize NVML\")\n"
     ]
    }
   ],
   "source": [
    "training_args = TrainingArguments(\n",
    "    output_dir=output_dir.as_posix(),\n",
    "    per_device_train_batch_size=1,\n",
    "    gradient_accumulation_steps=8,\n",
    "    \n",
    "    num_train_epochs=1, # we use EarlyStoppingCallback to stop training if eval_loss doesn't improve for 3 evals\n",
    "\n",
    "    logging_steps=25,\n",
    "\n",
    "    save_strategy=\"steps\",\n",
    "    save_steps=100,\n",
    "\n",
    "    save_total_limit=2,\n",
    "    eval_strategy=\"steps\",\n",
    "    eval_steps=100,\n",
    "\n",
    "    load_best_model_at_end=True,\n",
    "    metric_for_best_model=\"eval_loss\",\n",
    "    greater_is_better=False,\n",
    "\n",
    "    logging_dir=\"./logs\",\n",
    "    report_to=\"none\",\n",
    ")\n",
    "\n",
    "\n",
    "lora_config = LoraConfig(\n",
    "    r=4,\n",
    "    lora_alpha=8,\n",
    "    lora_dropout=0.05,\n",
    "    target_modules=[\n",
    "        \"q_proj\", \"k_proj\", \"v_proj\", \"o_proj\", \n",
    "        \"gate_proj\", \"up_proj\", \"down_proj\"\n",
    "    ],\n",
    "    task_type=\"CAUSAL_LM\",\n",
    "    bias=\"lora_only\",\n",
    "    modules_to_save=[\"lm_head\", \"embed_token\"],\n",
    ")"
   ]
  },
  {
   "cell_type": "code",
   "execution_count": null,
   "id": "f704d4a3",
   "metadata": {},
   "outputs": [],
   "source": [
    "import torch\n",
    "from transformers import AutoTokenizer, AutoModelForCausalLM\n",
    "\n",
    "if torch.cuda.is_available():\n",
    "    print(\"CUDA is available! Using GPU.\")\n",
    "    print(f\"Number of GPUs: {torch.cuda.device_count()}\")\n",
    "    print(f\"Current CUDA device: {torch.cuda.current_device()}\")\n",
    "    print(f\"Device name: {torch.cuda.get_device_name(0)}\")\n",
    "    device_map_strategy = \"cuda\"\n",
    "elif torch.backends.mps.is_available():\n",
    "    print(\"MPS (Metal Performance Shaders) is available! Using Apple Silicon GPU.\")\n",
    "    device_map_strategy = \"mps\"\n",
    "else:\n",
    "    print(\"CUDA is not available. Using CPU.\")\n",
    "    num_threads = int(os.environ.get(\"SLURM_CPUS_PER_TASK\", 1)) # Default to 1 if not in Slurm\n",
    "    torch.set_num_threads(num_threads)\n",
    "    print(f\"PyTorch using {torch.get_num_threads()} CPU threads.\")\n",
    "    device_map_strategy = \"cpu\"\n",
    "\n",
    "tokenizer = AutoTokenizer.from_pretrained(model_name, trust_remote_code=True)\n",
    "model = AutoModelForCausalLM.from_pretrained(\n",
    "    model_name,\n",
    "    device_map=device_map_strategy,\n",
    "    trust_remote_code=True,\n",
    ")"
   ]
  },
  {
   "cell_type": "code",
   "execution_count": null,
   "id": "373a8b97",
   "metadata": {},
   "outputs": [],
   "source": [
    "from trl import SFTTrainer, SFTConfig\n",
    "from transformers import EarlyStoppingCallback\n",
    "\n",
    "\n",
    "training_args = SFTConfig(packing=True, **training_args.to_dict())\n",
    "os.makedirs(output_dir, exist_ok=True)\n",
    "with open(f\"{output_dir}/training_args.json\", \"w\") as f:\n",
    "    f.write(training_args.to_json_string())\n",
    "\n",
    "trainer = SFTTrainer(\n",
    "    model=model,\n",
    "    args=training_args,\n",
    "    peft_config=lora_config, # is None if not using LoRA\n",
    "    train_dataset=ds[\"train\"],\n",
    "    eval_dataset=ds[\"test\"],\n",
    "    callbacks=[EarlyStoppingCallback(early_stopping_patience=3)],\n",
    ")\n",
    "\n",
    "if resume:\n",
    "    trainer.train(resume_from_checkpoint=True)\n",
    "else:\n",
    "    trainer.train()\n",
    "    \n",
    "trainer.save_model(output_dir.as_posix())"
   ]
  }
 ],
 "metadata": {
  "kernelspec": {
   "display_name": "env",
   "language": "python",
   "name": "python3"
  },
  "language_info": {
   "codemirror_mode": {
    "name": "ipython",
    "version": 3
   },
   "file_extension": ".py",
   "mimetype": "text/x-python",
   "name": "python",
   "nbconvert_exporter": "python",
   "pygments_lexer": "ipython3",
   "version": "3.12.3"
  }
 },
 "nbformat": 4,
 "nbformat_minor": 5
}
